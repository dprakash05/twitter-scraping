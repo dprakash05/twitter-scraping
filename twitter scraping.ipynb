{
 "cells": [
  {
   "cell_type": "code",
   "execution_count": 12,
   "id": "a8228ce9",
   "metadata": {},
   "outputs": [],
   "source": [
    "##pip install selenium\n",
    "import csv\n",
    "from getpass import getpass\n",
    "from time import sleep\n",
    "from selenium.webdriver import Chrome\n",
    "from selenium.webdriver import chrome\n",
    "\n",
    "from selenium.common.exceptions import NoSuchElementException\n",
    "from selenium.webdriver.common.keys import Keys"
   ]
  },
  {
   "cell_type": "code",
   "execution_count": 13,
   "id": "758c995f",
   "metadata": {},
   "outputs": [],
   "source": [
    "#pip install webdriver-manager\n",
    "#options = ChromeOptions()\n",
    "#options.use_chromium=True\n",
    "driver = Chrome()      ## install chrome driver\n",
    "                       ##chrome diver should be in same folder "
   ]
  },
  {
   "cell_type": "code",
   "execution_count": 14,
   "id": "2e2a500d",
   "metadata": {},
   "outputs": [],
   "source": [
    "driver.get('https://www.twitter.com/login')"
   ]
  },
  {
   "cell_type": "code",
   "execution_count": 15,
   "id": "787e53fa",
   "metadata": {
    "scrolled": true
   },
   "outputs": [
    {
     "name": "stderr",
     "output_type": "stream",
     "text": [
      "<ipython-input-15-16adaa6ca4a3>:1: DeprecationWarning: find_element_by_* commands are deprecated. Please use find_element() instead\n",
      "  username=driver.find_element_by_xpath('//input[@name=\"username\"]')\n"
     ]
    }
   ],
   "source": [
    "username=driver.find_element_by_xpath('//input[@name=\"username\"]')\n",
    "username.send_keys('dprakash05@hotmail.com')\n",
    "username.send_keys(Keys.RETURN )"
   ]
  },
  {
   "cell_type": "code",
   "execution_count": 200,
   "id": "6fb30741",
   "metadata": {},
   "outputs": [
    {
     "name": "stderr",
     "output_type": "stream",
     "text": [
      "<ipython-input-200-f2574f2fae9d>:1: DeprecationWarning: find_element_by_* commands are deprecated. Please use find_element() instead\n",
      "  username=driver.find_element_by_xpath('//input[@name=\"text\"]')\n"
     ]
    }
   ],
   "source": [
    "# sometime this page didn't come then skip this step\n",
    "username=driver.find_element_by_xpath('//input[@name=\"text\"]')\n",
    "username.send_keys('datascience05')\n",
    "username.send_keys(Keys.RETURN )"
   ]
  },
  {
   "cell_type": "code",
   "execution_count": 16,
   "id": "3bcb1871",
   "metadata": {},
   "outputs": [
    {
     "name": "stdout",
     "output_type": "stream",
     "text": [
      "········\n"
     ]
    }
   ],
   "source": [
    "my_password=getpass()"
   ]
  },
  {
   "cell_type": "code",
   "execution_count": 17,
   "id": "219905ab",
   "metadata": {},
   "outputs": [
    {
     "name": "stderr",
     "output_type": "stream",
     "text": [
      "<ipython-input-17-d129426e46c8>:1: DeprecationWarning: find_element_by_* commands are deprecated. Please use find_element() instead\n",
      "  password=driver.find_element_by_xpath('//input[@name=\"password\"]')\n"
     ]
    }
   ],
   "source": [
    "password=driver.find_element_by_xpath('//input[@name=\"password\"]')\n",
    "password.send_keys(my_password)\n",
    "password.send_keys(Keys.ENTER )"
   ]
  },
  {
   "cell_type": "code",
   "execution_count": 18,
   "id": "d72b20f3",
   "metadata": {},
   "outputs": [
    {
     "name": "stderr",
     "output_type": "stream",
     "text": [
      "<ipython-input-18-3ae4415ccd5b>:1: DeprecationWarning: find_element_by_* commands are deprecated. Please use find_element() instead\n",
      "  search_input=driver.find_element_by_xpath('//input[@aria-label=\"Search query\"]')\n"
     ]
    }
   ],
   "source": [
    "search_input=driver.find_element_by_xpath('//input[@aria-label=\"Search query\"]')\n",
    "search_input.send_keys('#polynote')"
   ]
  },
  {
   "cell_type": "code",
   "execution_count": 19,
   "id": "3427b0ea",
   "metadata": {},
   "outputs": [],
   "source": [
    "search_input.send_keys(Keys.RETURN)"
   ]
  },
  {
   "cell_type": "code",
   "execution_count": 20,
   "id": "cef34597",
   "metadata": {},
   "outputs": [
    {
     "name": "stderr",
     "output_type": "stream",
     "text": [
      "<ipython-input-20-7f8c586bf963>:1: DeprecationWarning: find_element_by_* commands are deprecated. Please use find_element() instead\n",
      "  driver.find_element_by_link_text('Latest').click()\n"
     ]
    }
   ],
   "source": [
    "driver.find_element_by_link_text('Latest').click()"
   ]
  },
  {
   "cell_type": "code",
   "execution_count": 21,
   "id": "03001a60",
   "metadata": {},
   "outputs": [
    {
     "name": "stderr",
     "output_type": "stream",
     "text": [
      "<ipython-input-21-cd0e98982cd5>:1: DeprecationWarning: find_elements_by_* commands are deprecated. Please use find_elements() instead\n",
      "  cards=driver.find_elements_by_xpath('//article[@data-testid= \"tweet\"]')\n"
     ]
    }
   ],
   "source": [
    "cards=driver.find_elements_by_xpath('//article[@data-testid= \"tweet\"]')"
   ]
  },
  {
   "cell_type": "code",
   "execution_count": 22,
   "id": "f79c31f3",
   "metadata": {},
   "outputs": [],
   "source": [
    "card=cards[0]"
   ]
  },
  {
   "cell_type": "code",
   "execution_count": 23,
   "id": "7edb7586",
   "metadata": {},
   "outputs": [
    {
     "name": "stderr",
     "output_type": "stream",
     "text": [
      "C:\\Users\\hp\\anaconda3\\lib\\site-packages\\selenium\\webdriver\\remote\\webelement.py:392: UserWarning: find_element_by_* commands are deprecated. Please use find_element() instead\n",
      "  warnings.warn(\"find_element_by_* commands are deprecated. Please use find_element() instead\")\n"
     ]
    },
    {
     "data": {
      "text/plain": [
       "'Nick Vintila'"
      ]
     },
     "execution_count": 23,
     "metadata": {},
     "output_type": "execute_result"
    }
   ],
   "source": [
    "#username\n",
    "card.find_element_by_xpath('./div[1]//span').text\n"
   ]
  },
  {
   "cell_type": "code",
   "execution_count": 24,
   "id": "2fc0ba9d",
   "metadata": {},
   "outputs": [
    {
     "data": {
      "text/plain": [
       "'Nick Vintila'"
      ]
     },
     "execution_count": 24,
     "metadata": {},
     "output_type": "execute_result"
    }
   ],
   "source": [
    "card.find_element_by_xpath('.//span').text"
   ]
  },
  {
   "cell_type": "code",
   "execution_count": 25,
   "id": "df862fb4",
   "metadata": {},
   "outputs": [
    {
     "data": {
      "text/plain": [
       "'@semanticbeeng'"
      ]
     },
     "execution_count": 25,
     "metadata": {},
     "output_type": "execute_result"
    }
   ],
   "source": [
    "#tetter handle\n",
    "card.find_element_by_xpath('.//span[contains(text(),\"@\")]').text"
   ]
  },
  {
   "cell_type": "code",
   "execution_count": 26,
   "id": "e7c76a22",
   "metadata": {},
   "outputs": [
    {
     "data": {
      "text/plain": [
       "'2021-06-25T16:42:04.000Z'"
      ]
     },
     "execution_count": 26,
     "metadata": {},
     "output_type": "execute_result"
    }
   ],
   "source": [
    "#post date\n",
    "card.find_element_by_xpath('.//time').get_attribute('datetime')"
   ]
  },
  {
   "cell_type": "code",
   "execution_count": 29,
   "id": "ee8cf118",
   "metadata": {},
   "outputs": [
    {
     "data": {
      "text/plain": [
       "'#Polynote is very nice in every way!\\n\\nAny plans for an actual roadmap ?\\nYearning for #k8s support like in Zeppelin, for example.'"
      ]
     },
     "execution_count": 29,
     "metadata": {},
     "output_type": "execute_result"
    }
   ],
   "source": [
    "# content of tweet\n",
    "comment=card.find_element_by_xpath('.//div[1]/div[2]/div[2]/div[2]/div[2]').text\n",
    "comment"
   ]
  },
  {
   "cell_type": "code",
   "execution_count": 30,
   "id": "1ab62c90",
   "metadata": {},
   "outputs": [],
   "source": [
    "# reply count\n",
    "reply_cnt=card.find_element_by_xpath('.//div[@data-testid=\"reply\"]').text"
   ]
  },
  {
   "cell_type": "code",
   "execution_count": 31,
   "id": "66e88a5e",
   "metadata": {},
   "outputs": [],
   "source": [
    "# retweet\n",
    "retweet_cnt=card.find_element_by_xpath('.//div[@data-testid=\"retweet\"]').text"
   ]
  },
  {
   "cell_type": "code",
   "execution_count": 32,
   "id": "b055bc62",
   "metadata": {},
   "outputs": [],
   "source": [
    "# likes\n",
    "like_cnt=card.find_element_by_xpath('.//div[@data-testid=\"like\"]').text"
   ]
  },
  {
   "cell_type": "code",
   "execution_count": 33,
   "id": "bcc2e2d9",
   "metadata": {},
   "outputs": [],
   "source": [
    "# complete code in def function\n",
    "def get_tweet_data(card):\n",
    "   # extract data from tweet\n",
    "    username=card.find_element_by_xpath('./div[1]//span').text\n",
    "    handle=card.find_element_by_xpath('.//span[contains(text(),\"@\")]').text\n",
    "    try:\n",
    "        postdate=card.find_element_by_xpath('.//time').get_attribute('datetime')\n",
    "    except NoSuchElementException:\n",
    "        return\n",
    "    comment\n",
    "    reply_cnt=card.find_element_by_xpath('.//div[@data-testid=\"reply\"]').text\n",
    "    retweet_cnt=card.find_element_by_xpath('.//div[@data-testid=\"retweet\"]').text\n",
    "    like_cnt=card.find_element_by_xpath('.//div[@data-testid=\"like\"]').text\n",
    "    \n",
    "    tweet=(username,handle,postdate,comment,reply_cnt,like_cnt,retweet_cnt)\n",
    "    return tweet"
   ]
  },
  {
   "cell_type": "code",
   "execution_count": 34,
   "id": "ab51a91b",
   "metadata": {},
   "outputs": [
    {
     "data": {
      "text/plain": [
       "('Nick Vintila',\n",
       " '@semanticbeeng',\n",
       " '2021-06-25T16:42:04.000Z',\n",
       " '#Polynote is very nice in every way!\\n\\nAny plans for an actual roadmap ?\\nYearning for #k8s support like in Zeppelin, for example.',\n",
       " '',\n",
       " '',\n",
       " '')"
      ]
     },
     "execution_count": 34,
     "metadata": {},
     "output_type": "execute_result"
    }
   ],
   "source": [
    "get_tweet_data(card)"
   ]
  },
  {
   "cell_type": "code",
   "execution_count": 187,
   "id": "b8b2ec82",
   "metadata": {},
   "outputs": [],
   "source": [
    "tweet_data=[]\n",
    "for card in cards:\n",
    "    data=get_tweet_data(card)\n",
    "    if data:\n",
    "        tweet_data.append(data)"
   ]
  },
  {
   "cell_type": "code",
   "execution_count": 188,
   "id": "8911a408",
   "metadata": {},
   "outputs": [
    {
     "data": {
      "text/plain": [
       "('Nick Vintila',\n",
       " '@semanticbeeng',\n",
       " '2021-06-25T16:42:04.000Z',\n",
       " '#Polynote is very nice in every way!\\n\\nAny plans for an actual roadmap ?\\nYearning for #k8s support like in Zeppelin, for example.',\n",
       " '',\n",
       " '',\n",
       " '')"
      ]
     },
     "execution_count": 188,
     "metadata": {},
     "output_type": "execute_result"
    }
   ],
   "source": [
    "tweet_data[0]"
   ]
  },
  {
   "cell_type": "code",
   "execution_count": 35,
   "id": "8a9a54e3",
   "metadata": {},
   "outputs": [],
   "source": [
    "driver.execute_script('window.scrollTo(0,document.body.scrollHeight); ')"
   ]
  },
  {
   "cell_type": "markdown",
   "id": "4f588366",
   "metadata": {},
   "source": [
    "###  putting all together"
   ]
  },
  {
   "cell_type": "code",
   "execution_count": 42,
   "id": "749fabd1",
   "metadata": {},
   "outputs": [
    {
     "name": "stderr",
     "output_type": "stream",
     "text": [
      "<ipython-input-42-8391b78fcc28>:30: DeprecationWarning: find_element_by_* commands are deprecated. Please use find_element() instead\n",
      "  username=driver.find_element_by_xpath('//input[@name=\"username\"]')\n",
      "<ipython-input-42-8391b78fcc28>:34: DeprecationWarning: find_element_by_* commands are deprecated. Please use find_element() instead\n",
      "  username1=driver.find_element_by_xpath('//input[@name=\"text\"]')\n"
     ]
    },
    {
     "name": "stdout",
     "output_type": "stream",
     "text": [
      "········\n"
     ]
    },
    {
     "name": "stderr",
     "output_type": "stream",
     "text": [
      "<ipython-input-42-8391b78fcc28>:39: DeprecationWarning: find_element_by_* commands are deprecated. Please use find_element() instead\n",
      "  password=driver.find_element_by_xpath('//input[@name=\"password\"]')\n",
      "<ipython-input-42-8391b78fcc28>:43: DeprecationWarning: find_element_by_* commands are deprecated. Please use find_element() instead\n",
      "  search_input=driver.find_element_by_xpath('//input[@aria-label=\"Search query\"]')\n",
      "<ipython-input-42-8391b78fcc28>:47: DeprecationWarning: find_element_by_* commands are deprecated. Please use find_element() instead\n",
      "  driver.find_element_by_link_text('Latest').click()\n",
      "<ipython-input-42-8391b78fcc28>:55: DeprecationWarning: find_elements_by_* commands are deprecated. Please use find_elements() instead\n",
      "  cards=driver.find_elements_by_xpath('//article[@data-testid= \"tweet\"]')\n"
     ]
    }
   ],
   "source": [
    "import csv\n",
    "from getpass import getpass\n",
    "from time import sleep\n",
    "from selenium.webdriver import Chrome\n",
    "from selenium.webdriver import chrome\n",
    "\n",
    "from selenium.common.exceptions import NoSuchElementException\n",
    "from selenium.webdriver.common.keys import Keys\n",
    "\n",
    "def get_tweet_data(card):\n",
    "   # extract data from tweet\n",
    "    username=card.find_element_by_xpath('./div[1]//span').text\n",
    "    handle=card.find_element_by_xpath('.//span[contains(text(),\"@\")]').text\n",
    "    try:\n",
    "        postdate=card.find_element_by_xpath('.//time').get_attribute('datetime')\n",
    "    except NoSuchElementException:\n",
    "        return\n",
    "    comment\n",
    "    reply_cnt=card.find_element_by_xpath('.//div[@data-testid=\"reply\"]').text\n",
    "    retweet_cnt=card.find_element_by_xpath('.//div[@data-testid=\"retweet\"]').text\n",
    "    like_cnt=card.find_element_by_xpath('.//div[@data-testid=\"like\"]').text\n",
    "    \n",
    "    tweet=(username,handle,postdate,comment,reply_cnt,like_cnt,retweet_cnt)\n",
    "    return tweet\n",
    "\n",
    "driver = Chrome()\n",
    "driver.get('https://www.twitter.com/login')\n",
    "driver.maximize_window()\n",
    "sleep(7)\n",
    "username=driver.find_element_by_xpath('//input[@name=\"username\"]')\n",
    "username.send_keys('dprakash05@hotmail.com')\n",
    "username.send_keys(Keys.RETURN )\n",
    "sleep(5)\n",
    "username1=driver.find_element_by_xpath('//input[@name=\"text\"]')\n",
    "username1.send_keys('datascience05')\n",
    "username1.send_keys(Keys.RETURN )\n",
    "\n",
    "my_password=getpass()\n",
    "password=driver.find_element_by_xpath('//input[@name=\"password\"]')\n",
    "password.send_keys(my_password)\n",
    "password.send_keys(Keys.ENTER )\n",
    "sleep(5)\n",
    "search_input=driver.find_element_by_xpath('//input[@aria-label=\"Search query\"]')\n",
    "search_input.send_keys('#polynote')\n",
    "search_input.send_keys(Keys.RETURN)\n",
    "sleep(5)\n",
    "driver.find_element_by_link_text('Latest').click()\n",
    "sleep(5)\n",
    "#get all tweets on page\n",
    "data=[]\n",
    "tweet_ids=set()\n",
    "last_position=driver.execute_script('return window.pageYOffset;')\n",
    "scrolling=True\n",
    "while scrolling:\n",
    "    cards=driver.find_elements_by_xpath('//article[@data-testid= \"tweet\"]')\n",
    "    for card in cards[-15:]:\n",
    "        tweet=get_tweet_data(card)\n",
    "        if tweet:\n",
    "            tweet_id=''.join(tweet)\n",
    "            if tweet_id not in tweet_ids:\n",
    "                tweet_ids.add(tweet_id)\n",
    "                data.append(tweet)\n",
    "   \n",
    "    scroll_attempt=0\n",
    "    while True:\n",
    "        \n",
    "        driver.execute_script('window.scrollTo(0,document.body.scrollHeight); ')\n",
    "        sleep(1)\n",
    "        curr_position=driver.execute_script('return window.pageYOffset;')\n",
    "        if last_position==curr_position:\n",
    "            scroll_attempt +=1\n",
    "            \n",
    "            # end of scroll region\n",
    "            if scroll_attempt>=3:\n",
    "                scrolling=False\n",
    "                break\n",
    "            else:\n",
    "                sleep(2)\n",
    "        else:\n",
    "            last_position=curr_position\n",
    "            break\n",
    "#card=cards[0]\n",
    "#username\n",
    "##card.find_element_by_xpath('./div[1]//span').text\n",
    "#tetter handle\n",
    "##card.find_element_by_xpath('.//span[contains(text(),\"@\")]').text\n",
    "#post date\n",
    "##card.find_element_by_xpath('.//time').get_attribute('datetime')\n",
    "# content of tweet\n",
    "##comment=card.find_element_by_xpath('.//div[1]/div[2]/div[2]/div[2]/div[2]').text\n",
    "# reply count\n",
    "##reply_cnt=card.find_element_by_xpath('.//div[@data-testid=\"reply\"]').text\n",
    "# retweet\n",
    "##retweet_cnt=card.find_element_by_xpath('.//div[@data-testid=\"retweet\"]').text\n",
    "# likes\n",
    "##like_cnt=card.find_element_by_xpath('.//div[@data-testid=\"like\"]').text\n",
    "\n",
    "##get_tweet_data(card)\n",
    "##tweet_data=[]\n",
    "\n",
    "##tweet_data[0]\n"
   ]
  },
  {
   "cell_type": "code",
   "execution_count": 43,
   "id": "081da08c",
   "metadata": {},
   "outputs": [
    {
     "data": {
      "text/plain": [
       "57"
      ]
     },
     "execution_count": 43,
     "metadata": {},
     "output_type": "execute_result"
    }
   ],
   "source": [
    "len(data)"
   ]
  },
  {
   "cell_type": "code",
   "execution_count": 44,
   "id": "8af76c8c",
   "metadata": {},
   "outputs": [
    {
     "data": {
      "text/plain": [
       "[('Nick Vintila',\n",
       "  '@semanticbeeng',\n",
       "  '2021-06-25T16:42:04.000Z',\n",
       "  '#Polynote is very nice in every way!\\n\\nAny plans for an actual roadmap ?\\nYearning for #k8s support like in Zeppelin, for example.',\n",
       "  '',\n",
       "  '',\n",
       "  ''),\n",
       " ('Himalayas',\n",
       "  '@himalayasapp',\n",
       "  '2021-06-03T06:03:47.000Z',\n",
       "  '#Polynote is very nice in every way!\\n\\nAny plans for an actual roadmap ?\\nYearning for #k8s support like in Zeppelin, for example.',\n",
       "  '',\n",
       "  '1',\n",
       "  '1'),\n",
       " ('Nick Vintila',\n",
       "  '@semanticbeeng',\n",
       "  '2021-05-09T16:45:28.000Z',\n",
       "  '#Polynote is very nice in every way!\\n\\nAny plans for an actual roadmap ?\\nYearning for #k8s support like in Zeppelin, for example.',\n",
       "  '',\n",
       "  '1',\n",
       "  '2'),\n",
       " ('dazfuller',\n",
       "  '@dazfuller',\n",
       "  '2021-04-11T16:58:29.000Z',\n",
       "  '#Polynote is very nice in every way!\\n\\nAny plans for an actual roadmap ?\\nYearning for #k8s support like in Zeppelin, for example.',\n",
       "  '',\n",
       "  '1',\n",
       "  '2'),\n",
       " ('TheSequence',\n",
       "  '@TheSequenceAI',\n",
       "  '2020-09-03T14:49:00.000Z',\n",
       "  '#Polynote is very nice in every way!\\n\\nAny plans for an actual roadmap ?\\nYearning for #k8s support like in Zeppelin, for example.',\n",
       "  '',\n",
       "  '2',\n",
       "  '3'),\n",
       " ('TheSequence',\n",
       "  '@TheSequenceAI',\n",
       "  '2020-09-02T13:14:32.000Z',\n",
       "  '#Polynote is very nice in every way!\\n\\nAny plans for an actual roadmap ?\\nYearning for #k8s support like in Zeppelin, for example.',\n",
       "  '',\n",
       "  '2',\n",
       "  '4'),\n",
       " ('Data Blogger',\n",
       "  '@DSCurator',\n",
       "  '2020-08-25T08:30:21.000Z',\n",
       "  '#Polynote is very nice in every way!\\n\\nAny plans for an actual roadmap ?\\nYearning for #k8s support like in Zeppelin, for example.',\n",
       "  '',\n",
       "  '',\n",
       "  ''),\n",
       " ('Data Blogger',\n",
       "  '@DSCurator',\n",
       "  '2020-08-24T15:30:19.000Z',\n",
       "  '#Polynote is very nice in every way!\\n\\nAny plans for an actual roadmap ?\\nYearning for #k8s support like in Zeppelin, for example.',\n",
       "  '',\n",
       "  '',\n",
       "  ''),\n",
       " ('Data Blogger',\n",
       "  '@DSCurator',\n",
       "  '2020-08-24T02:45:17.000Z',\n",
       "  '#Polynote is very nice in every way!\\n\\nAny plans for an actual roadmap ?\\nYearning for #k8s support like in Zeppelin, for example.',\n",
       "  '',\n",
       "  '',\n",
       "  ''),\n",
       " ('Data Blogger',\n",
       "  '@DSCurator',\n",
       "  '2020-08-21T22:00:24.000Z',\n",
       "  '#Polynote is very nice in every way!\\n\\nAny plans for an actual roadmap ?\\nYearning for #k8s support like in Zeppelin, for example.',\n",
       "  '',\n",
       "  '',\n",
       "  ''),\n",
       " ('Data Blogger',\n",
       "  '@DSCurator',\n",
       "  '2020-08-20T06:45:28.000Z',\n",
       "  '#Polynote is very nice in every way!\\n\\nAny plans for an actual roadmap ?\\nYearning for #k8s support like in Zeppelin, for example.',\n",
       "  '',\n",
       "  '',\n",
       "  ''),\n",
       " ('Davide Camera',\n",
       "  '@DavideCamera',\n",
       "  '2020-08-18T12:48:53.000Z',\n",
       "  '#Polynote is very nice in every way!\\n\\nAny plans for an actual roadmap ?\\nYearning for #k8s support like in Zeppelin, for example.',\n",
       "  '1',\n",
       "  '27',\n",
       "  '51'),\n",
       " ('Data Blogger',\n",
       "  '@DSCurator',\n",
       "  '2020-08-18T01:45:26.000Z',\n",
       "  '#Polynote is very nice in every way!\\n\\nAny plans for an actual roadmap ?\\nYearning for #k8s support like in Zeppelin, for example.',\n",
       "  '',\n",
       "  '',\n",
       "  ''),\n",
       " ('Ganesh Bhat',\n",
       "  '@ganesh3',\n",
       "  '2020-08-06T10:20:39.000Z',\n",
       "  '#Polynote is very nice in every way!\\n\\nAny plans for an actual roadmap ?\\nYearning for #k8s support like in Zeppelin, for example.',\n",
       "  '',\n",
       "  '2',\n",
       "  '3'),\n",
       " ('Colin McGuire',\n",
       "  '@realColinMac',\n",
       "  '2020-08-06T02:18:00.000Z',\n",
       "  '#Polynote is very nice in every way!\\n\\nAny plans for an actual roadmap ?\\nYearning for #k8s support like in Zeppelin, for example.',\n",
       "  '1',\n",
       "  '9',\n",
       "  '16'),\n",
       " ('Alfredo Olguin',\n",
       "  '@AlfredoOlguinG',\n",
       "  '2020-08-05T19:46:06.000Z',\n",
       "  '#Polynote is very nice in every way!\\n\\nAny plans for an actual roadmap ?\\nYearning for #k8s support like in Zeppelin, for example.',\n",
       "  '',\n",
       "  '2',\n",
       "  ''),\n",
       " ('Lunatech',\n",
       "  '@LunatechLabs',\n",
       "  '2020-08-03T09:06:28.000Z',\n",
       "  '#Polynote is very nice in every way!\\n\\nAny plans for an actual roadmap ?\\nYearning for #k8s support like in Zeppelin, for example.',\n",
       "  '',\n",
       "  '11',\n",
       "  '4'),\n",
       " ('nüktem',\n",
       "  '@NuktemLuta',\n",
       "  '2020-07-01T12:56:52.000Z',\n",
       "  '#Polynote is very nice in every way!\\n\\nAny plans for an actual roadmap ?\\nYearning for #k8s support like in Zeppelin, for example.',\n",
       "  '',\n",
       "  '',\n",
       "  '1'),\n",
       " ('dazfuller',\n",
       "  '@dazfuller',\n",
       "  '2019-12-28T10:30:40.000Z',\n",
       "  '#Polynote is very nice in every way!\\n\\nAny plans for an actual roadmap ?\\nYearning for #k8s support like in Zeppelin, for example.',\n",
       "  '',\n",
       "  '',\n",
       "  ''),\n",
       " ('Eamonn Maguire',\n",
       "  '@antarcticdesign',\n",
       "  '2019-12-27T11:22:39.000Z',\n",
       "  '#Polynote is very nice in every way!\\n\\nAny plans for an actual roadmap ?\\nYearning for #k8s support like in Zeppelin, for example.',\n",
       "  '',\n",
       "  '1',\n",
       "  '3'),\n",
       " ('Ben Hur',\n",
       "  '@benhur07b',\n",
       "  '2019-12-25T14:27:52.000Z',\n",
       "  '#Polynote is very nice in every way!\\n\\nAny plans for an actual roadmap ?\\nYearning for #k8s support like in Zeppelin, for example.',\n",
       "  '',\n",
       "  '1',\n",
       "  ''),\n",
       " ('Needemand',\n",
       "  '@needemand',\n",
       "  '2019-12-24T09:32:17.000Z',\n",
       "  '#Polynote is very nice in every way!\\n\\nAny plans for an actual roadmap ?\\nYearning for #k8s support like in Zeppelin, for example.',\n",
       "  '',\n",
       "  '',\n",
       "  '1'),\n",
       " ('Robert Zembowicz',\n",
       "  '@rzembo',\n",
       "  '2019-12-23T19:38:00.000Z',\n",
       "  '#Polynote is very nice in every way!\\n\\nAny plans for an actual roadmap ?\\nYearning for #k8s support like in Zeppelin, for example.',\n",
       "  '',\n",
       "  '5',\n",
       "  '5'),\n",
       " ('Analytics India Magazine',\n",
       "  '@Analyticsindiam',\n",
       "  '2019-12-23T13:01:18.000Z',\n",
       "  '#Polynote is very nice in every way!\\n\\nAny plans for an actual roadmap ?\\nYearning for #k8s support like in Zeppelin, for example.',\n",
       "  '',\n",
       "  '2',\n",
       "  ''),\n",
       " ('Juarez Junior',\n",
       "  '@juarezjunior',\n",
       "  '2019-12-22T14:52:35.000Z',\n",
       "  '#Polynote is very nice in every way!\\n\\nAny plans for an actual roadmap ?\\nYearning for #k8s support like in Zeppelin, for example.',\n",
       "  '',\n",
       "  '',\n",
       "  ''),\n",
       " ('Sanjeev Kumar',\n",
       "  '@dataPlumbers',\n",
       "  '2019-12-17T08:24:53.000Z',\n",
       "  '#Polynote is very nice in every way!\\n\\nAny plans for an actual roadmap ?\\nYearning for #k8s support like in Zeppelin, for example.',\n",
       "  '',\n",
       "  '2',\n",
       "  ''),\n",
       " ('SoftwareMill',\n",
       "  '@softwaremill',\n",
       "  '2019-11-14T14:56:00.000Z',\n",
       "  '#Polynote is very nice in every way!\\n\\nAny plans for an actual roadmap ?\\nYearning for #k8s support like in Zeppelin, for example.',\n",
       "  '',\n",
       "  '7',\n",
       "  ''),\n",
       " ('Adam Warski',\n",
       "  '@adamwarski',\n",
       "  '2019-11-14T10:37:22.000Z',\n",
       "  '#Polynote is very nice in every way!\\n\\nAny plans for an actual roadmap ?\\nYearning for #k8s support like in Zeppelin, for example.',\n",
       "  '1',\n",
       "  '26',\n",
       "  '11'),\n",
       " ('Maja Ferle',\n",
       "  '@majaf1',\n",
       "  '2019-11-14T07:49:11.000Z',\n",
       "  '#Polynote is very nice in every way!\\n\\nAny plans for an actual roadmap ?\\nYearning for #k8s support like in Zeppelin, for example.',\n",
       "  '',\n",
       "  '',\n",
       "  ''),\n",
       " ('Fernando J. Mora Jr.',\n",
       "  '@fjmorajr',\n",
       "  '2019-11-13T23:55:05.000Z',\n",
       "  '#Polynote is very nice in every way!\\n\\nAny plans for an actual roadmap ?\\nYearning for #k8s support like in Zeppelin, for example.',\n",
       "  '',\n",
       "  '',\n",
       "  ''),\n",
       " ('dazfuller',\n",
       "  '@dazfuller',\n",
       "  '2019-11-13T17:16:40.000Z',\n",
       "  '#Polynote is very nice in every way!\\n\\nAny plans for an actual roadmap ?\\nYearning for #k8s support like in Zeppelin, for example.',\n",
       "  '',\n",
       "  '2',\n",
       "  ''),\n",
       " ('T Ali',\n",
       "  '@tauheedul',\n",
       "  '2019-11-02T16:55:16.000Z',\n",
       "  '#Polynote is very nice in every way!\\n\\nAny plans for an actual roadmap ?\\nYearning for #k8s support like in Zeppelin, for example.',\n",
       "  '',\n",
       "  '1',\n",
       "  ''),\n",
       " ('Per Ardua ad Ortum Machina Sapientis',\n",
       "  '@jbfuqua',\n",
       "  '2019-11-02T15:23:35.000Z',\n",
       "  '#Polynote is very nice in every way!\\n\\nAny plans for an actual roadmap ?\\nYearning for #k8s support like in Zeppelin, for example.',\n",
       "  '',\n",
       "  '',\n",
       "  ''),\n",
       " ('dazfuller',\n",
       "  '@dazfuller',\n",
       "  '2019-11-01T19:19:07.000Z',\n",
       "  '#Polynote is very nice in every way!\\n\\nAny plans for an actual roadmap ?\\nYearning for #k8s support like in Zeppelin, for example.',\n",
       "  '',\n",
       "  '1',\n",
       "  ''),\n",
       " ('hwingo',\n",
       "  '@hwingo',\n",
       "  '2019-11-01T12:42:09.000Z',\n",
       "  '#Polynote is very nice in every way!\\n\\nAny plans for an actual roadmap ?\\nYearning for #k8s support like in Zeppelin, for example.',\n",
       "  '',\n",
       "  '',\n",
       "  ''),\n",
       " ('Spiros Margaris',\n",
       "  '@SpirosMargaris',\n",
       "  '2019-11-01T06:51:50.000Z',\n",
       "  '#Polynote is very nice in every way!\\n\\nAny plans for an actual roadmap ?\\nYearning for #k8s support like in Zeppelin, for example.',\n",
       "  '',\n",
       "  '3',\n",
       "  '2'),\n",
       " ('Data Scientists',\n",
       "  '@DataScientistsF',\n",
       "  '2019-10-27T19:16:05.000Z',\n",
       "  '#Polynote is very nice in every way!\\n\\nAny plans for an actual roadmap ?\\nYearning for #k8s support like in Zeppelin, for example.',\n",
       "  '',\n",
       "  '',\n",
       "  '3'),\n",
       " ('Big Data Analytics',\n",
       "  '@BigData_Fr',\n",
       "  '2019-10-27T19:09:25.000Z',\n",
       "  '#Polynote is very nice in every way!\\n\\nAny plans for an actual roadmap ?\\nYearning for #k8s support like in Zeppelin, for example.',\n",
       "  '',\n",
       "  '',\n",
       "  ''),\n",
       " ('Gabrielle Prat',\n",
       "  '@GabriellePrat',\n",
       "  '2019-10-27T18:15:39.000Z',\n",
       "  '#Polynote is very nice in every way!\\n\\nAny plans for an actual roadmap ?\\nYearning for #k8s support like in Zeppelin, for example.',\n",
       "  '',\n",
       "  '2',\n",
       "  '10'),\n",
       " ('Knowbella Tech',\n",
       "  '@knowbella',\n",
       "  '2019-10-27T17:52:17.000Z',\n",
       "  '#Polynote is very nice in every way!\\n\\nAny plans for an actual roadmap ?\\nYearning for #k8s support like in Zeppelin, for example.',\n",
       "  '',\n",
       "  '2',\n",
       "  '2'),\n",
       " ('Dataiku',\n",
       "  '@dataiku',\n",
       "  '2019-10-27T16:07:59.000Z',\n",
       "  '#Polynote is very nice in every way!\\n\\nAny plans for an actual roadmap ?\\nYearning for #k8s support like in Zeppelin, for example.',\n",
       "  '',\n",
       "  '',\n",
       "  ''),\n",
       " ('Craig Milroy',\n",
       "  '@CraigMilroy',\n",
       "  '2019-10-27T12:48:02.000Z',\n",
       "  '#Polynote is very nice in every way!\\n\\nAny plans for an actual roadmap ?\\nYearning for #k8s support like in Zeppelin, for example.',\n",
       "  '',\n",
       "  '',\n",
       "  ''),\n",
       " ('Aditya Gupta',\n",
       "  '@adityaguptai',\n",
       "  '2019-10-27T04:43:58.000Z',\n",
       "  '#Polynote is very nice in every way!\\n\\nAny plans for an actual roadmap ?\\nYearning for #k8s support like in Zeppelin, for example.',\n",
       "  '',\n",
       "  '',\n",
       "  ''),\n",
       " ('RMS',\n",
       "  '@RochMNseo',\n",
       "  '2019-10-27T01:23:42.000Z',\n",
       "  '#Polynote is very nice in every way!\\n\\nAny plans for an actual roadmap ?\\nYearning for #k8s support like in Zeppelin, for example.',\n",
       "  '',\n",
       "  '',\n",
       "  '2'),\n",
       " ('__bathia_mkwr__',\n",
       "  '@bathia_mkwr',\n",
       "  '2019-10-26T17:47:37.000Z',\n",
       "  '#Polynote is very nice in every way!\\n\\nAny plans for an actual roadmap ?\\nYearning for #k8s support like in Zeppelin, for example.',\n",
       "  '',\n",
       "  '3',\n",
       "  '1'),\n",
       " ('Andrew Willacy',\n",
       "  '@awillacy',\n",
       "  '2019-10-25T19:13:01.000Z',\n",
       "  '#Polynote is very nice in every way!\\n\\nAny plans for an actual roadmap ?\\nYearning for #k8s support like in Zeppelin, for example.',\n",
       "  '',\n",
       "  '3',\n",
       "  '1'),\n",
       " ('Mukund Srinivasan',\n",
       "  '@msriniva',\n",
       "  '2019-10-25T18:01:42.000Z',\n",
       "  '#Polynote is very nice in every way!\\n\\nAny plans for an actual roadmap ?\\nYearning for #k8s support like in Zeppelin, for example.',\n",
       "  '',\n",
       "  '1',\n",
       "  '1'),\n",
       " ('Yuriy Pakhotin',\n",
       "  '@pakhotin',\n",
       "  '2019-10-25T15:39:21.000Z',\n",
       "  '#Polynote is very nice in every way!\\n\\nAny plans for an actual roadmap ?\\nYearning for #k8s support like in Zeppelin, for example.',\n",
       "  '',\n",
       "  '',\n",
       "  ''),\n",
       " ('hwingo',\n",
       "  '@hwingo',\n",
       "  '2019-10-25T14:27:18.000Z',\n",
       "  '#Polynote is very nice in every way!\\n\\nAny plans for an actual roadmap ?\\nYearning for #k8s support like in Zeppelin, for example.',\n",
       "  '',\n",
       "  '',\n",
       "  '1'),\n",
       " ('Ian Yorston',\n",
       "  '@IanYorston',\n",
       "  '2019-10-25T14:08:36.000Z',\n",
       "  '#Polynote is very nice in every way!\\n\\nAny plans for an actual roadmap ?\\nYearning for #k8s support like in Zeppelin, for example.',\n",
       "  '1',\n",
       "  '',\n",
       "  ''),\n",
       " ('Spiros Margaris',\n",
       "  '@SpirosMargaris',\n",
       "  '2019-10-24T00:31:01.000Z',\n",
       "  '#Polynote is very nice in every way!\\n\\nAny plans for an actual roadmap ?\\nYearning for #k8s support like in Zeppelin, for example.',\n",
       "  '2',\n",
       "  '25',\n",
       "  '37'),\n",
       " ('Lucio Albenga',\n",
       "  '@LucioAlbenga',\n",
       "  '2019-10-23T22:34:08.000Z',\n",
       "  '#Polynote is very nice in every way!\\n\\nAny plans for an actual roadmap ?\\nYearning for #k8s support like in Zeppelin, for example.',\n",
       "  '',\n",
       "  '3',\n",
       "  '1'),\n",
       " ('mark allen',\n",
       "  '@MarkAllen_Tech',\n",
       "  '2019-10-23T21:35:44.000Z',\n",
       "  '#Polynote is very nice in every way!\\n\\nAny plans for an actual roadmap ?\\nYearning for #k8s support like in Zeppelin, for example.',\n",
       "  '',\n",
       "  '5',\n",
       "  '1'),\n",
       " ('Linas Baltrunas',\n",
       "  '@LinasTw',\n",
       "  '2019-10-23T18:13:42.000Z',\n",
       "  '#Polynote is very nice in every way!\\n\\nAny plans for an actual roadmap ?\\nYearning for #k8s support like in Zeppelin, for example.',\n",
       "  '3',\n",
       "  '20',\n",
       "  '7'),\n",
       " ('Itay Niv',\n",
       "  '@Itay_niv',\n",
       "  '2018-07-10T17:33:28.000Z',\n",
       "  '#Polynote is very nice in every way!\\n\\nAny plans for an actual roadmap ?\\nYearning for #k8s support like in Zeppelin, for example.',\n",
       "  '',\n",
       "  '1',\n",
       "  ''),\n",
       " ('zumay@',\n",
       "  'zumay@',\n",
       "  '2016-12-30T09:46:01.000Z',\n",
       "  '#Polynote is very nice in every way!\\n\\nAny plans for an actual roadmap ?\\nYearning for #k8s support like in Zeppelin, for example.',\n",
       "  '',\n",
       "  '1',\n",
       "  ''),\n",
       " ('zumay@',\n",
       "  'zumay@',\n",
       "  '2016-12-30T09:38:57.000Z',\n",
       "  '#Polynote is very nice in every way!\\n\\nAny plans for an actual roadmap ?\\nYearning for #k8s support like in Zeppelin, for example.',\n",
       "  '1',\n",
       "  '1',\n",
       "  '')]"
      ]
     },
     "execution_count": 44,
     "metadata": {},
     "output_type": "execute_result"
    }
   ],
   "source": [
    "data"
   ]
  },
  {
   "cell_type": "markdown",
   "id": "d9458dc2",
   "metadata": {},
   "source": [
    "###  saving tweet data"
   ]
  },
  {
   "cell_type": "code",
   "execution_count": 45,
   "id": "fe127110",
   "metadata": {},
   "outputs": [],
   "source": [
    "with open('polynote_tweets1.csv','w',newline='',encoding='utf-8') as f:\n",
    "    header=['username','handle','timestamp','likes','retweet','comment']\n",
    "    writer=csv.writer(f)\n",
    "    writer.writerow(header)\n",
    "    writer.writerows(data)"
   ]
  },
  {
   "cell_type": "code",
   "execution_count": null,
   "id": "fa4114be",
   "metadata": {},
   "outputs": [],
   "source": []
  }
 ],
 "metadata": {
  "kernelspec": {
   "display_name": "Python 3",
   "language": "python",
   "name": "python3"
  },
  "language_info": {
   "codemirror_mode": {
    "name": "ipython",
    "version": 3
   },
   "file_extension": ".py",
   "mimetype": "text/x-python",
   "name": "python",
   "nbconvert_exporter": "python",
   "pygments_lexer": "ipython3",
   "version": "3.8.8"
  }
 },
 "nbformat": 4,
 "nbformat_minor": 5
}
